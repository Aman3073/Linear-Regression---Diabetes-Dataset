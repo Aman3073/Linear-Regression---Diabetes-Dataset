{
 "cells": [
  {
   "cell_type": "code",
   "execution_count": 170,
   "id": "bde6f0c8",
   "metadata": {},
   "outputs": [],
   "source": [
    "import numpy as np\n",
    "from sklearn import datasets"
   ]
  },
  {
   "cell_type": "code",
   "execution_count": 171,
   "id": "98af78eb",
   "metadata": {},
   "outputs": [],
   "source": [
    "# import training data file\n",
    "diabetes_train = np.genfromtxt(\"C:\\\\Users\\\\hp\\\\Downloads\\\\0000000000002329_training_diabetes_x_y_train.csv\",delimiter=\",\")\n",
    "X_train = diabetes_train[:,:10]\n",
    "Y_train = diabetes_train[:,-1]"
   ]
  },
  {
   "cell_type": "code",
   "execution_count": 172,
   "id": "4788cbf9",
   "metadata": {},
   "outputs": [],
   "source": [
    "# import testing data file\n",
    "diabetes_test = np.genfromtxt(\"C:\\\\Users\\\\hp\\\\Downloads\\\\0000000000002329_test_diabetes_x_test.csv\",delimiter=\",\")\n",
    "X_test = diabetes_test"
   ]
  },
  {
   "cell_type": "code",
   "execution_count": 173,
   "id": "97dcd253",
   "metadata": {},
   "outputs": [],
   "source": [
    "from sklearn import model_selection"
   ]
  },
  {
   "cell_type": "code",
   "execution_count": 174,
   "id": "b228a1d5",
   "metadata": {},
   "outputs": [
    {
     "data": {
      "text/plain": [
       "LinearRegression()"
      ]
     },
     "execution_count": 174,
     "metadata": {},
     "output_type": "execute_result"
    }
   ],
   "source": [
    "from sklearn.linear_model import LinearRegression\n",
    "alg1 = LinearRegression()\n",
    "alg1.fit(X_train,Y_train)"
   ]
  },
  {
   "cell_type": "code",
   "execution_count": 179,
   "id": "7b8d0233",
   "metadata": {},
   "outputs": [
    {
     "data": {
      "text/plain": [
       "(111,\n",
       " array([105.52974799, 105.8039198 , 178.60857225,  79.3828781 ,\n",
       "         52.95868706,  98.87263854, 150.71755448,  34.86515216,\n",
       "        113.13535727, 161.50184038, 135.8615611 ,  94.71592222,\n",
       "        138.48094422, 141.37441723, 158.76862662, 171.65288616,\n",
       "        106.44835654, 103.92659639,  95.38693889, 167.40118092,\n",
       "        166.53426278, 101.53464712, 252.45035972, 147.02258547,\n",
       "        214.78906632, 161.27557106, 210.61315228,  71.78091585,\n",
       "        189.65032431, 206.6134259 , 219.98643455, 168.80192534,\n",
       "        116.84846127, 178.74399639,  77.03247418,  59.54633214,\n",
       "        111.5673781 , 156.95186739, 154.59591259, 198.94457493,\n",
       "        115.53884017, 153.46699024,  84.96179518, 113.70337192,\n",
       "        142.14155617, 147.31040378,  82.78072358,  77.89237327,\n",
       "        128.99006192, 261.58712282, 213.31187775, 243.98791257,\n",
       "        167.68132094, 183.69712124, 166.85926884, 202.11440188,\n",
       "        220.39235543, 172.40288024, 176.60897931, 109.04656567,\n",
       "        276.37789836,  90.99941821, 289.37221147, 119.56253351,\n",
       "         75.45687948, 180.78598759, 146.62093081, 156.42382465,\n",
       "         41.079036  , 247.90645166, 207.99121432,  90.09641075,\n",
       "        222.24169638, 189.86378006, 182.2695376 , 164.39881376,\n",
       "        190.27066587, 105.4486795 , 199.86136394, 245.796388  ,\n",
       "        123.20281334, 119.41031908, 145.86620411, 206.19247291,\n",
       "        150.86282453, 142.23221646, 154.56874616, 115.29233396,\n",
       "        134.07810123, 118.42225404, 203.5767555 , 170.66483797,\n",
       "        127.409797  ,  57.13507634, 231.92226503, 185.20713654,\n",
       "        187.37494558,  83.55920849, 185.42585685, 217.34035639,\n",
       "        108.86715354,  80.98714568, 127.05524123, 242.00738792,\n",
       "        155.9723414 , 125.67575276, 246.41235643, 234.963933  ,\n",
       "        191.51298252, 168.33254477, 163.02965178]))"
      ]
     },
     "execution_count": 179,
     "metadata": {},
     "output_type": "execute_result"
    }
   ],
   "source": [
    "# predict the data\n",
    "y_pred = alg1.predict(X_test)\n",
    "len(y_pred),y_pred"
   ]
  },
  {
   "cell_type": "code",
   "execution_count": 191,
   "id": "0bb14a4d",
   "metadata": {},
   "outputs": [
    {
     "data": {
      "text/plain": [
       "array([105.52975, 105.80392, 178.60857,  79.38288,  52.95869,  98.87264,\n",
       "       150.71755,  34.86515, 113.13536, 161.50184, 135.86156,  94.71592,\n",
       "       138.48094, 141.37442, 158.76863, 171.65289, 106.44836, 103.9266 ,\n",
       "        95.38694, 167.40118, 166.53426, 101.53465, 252.45036, 147.02259,\n",
       "       214.78907, 161.27557, 210.61315,  71.78092, 189.65032, 206.61343,\n",
       "       219.98643, 168.80193, 116.84846, 178.744  ,  77.03247,  59.54633,\n",
       "       111.56738, 156.95187, 154.59591, 198.94457, 115.53884, 153.46699,\n",
       "        84.9618 , 113.70337, 142.14156, 147.3104 ,  82.78072,  77.89237,\n",
       "       128.99006, 261.58712, 213.31188, 243.98791, 167.68132, 183.69712,\n",
       "       166.85927, 202.1144 , 220.39236, 172.40288, 176.60898, 109.04657,\n",
       "       276.3779 ,  90.99942, 289.37221, 119.56253,  75.45688, 180.78599,\n",
       "       146.62093, 156.42382,  41.07904, 247.90645, 207.99121,  90.09641,\n",
       "       222.2417 , 189.86378, 182.26954, 164.39881, 190.27067, 105.44868,\n",
       "       199.86136, 245.79639, 123.20281, 119.41032, 145.8662 , 206.19247,\n",
       "       150.86282, 142.23222, 154.56875, 115.29233, 134.0781 , 118.42225,\n",
       "       203.57676, 170.66484, 127.4098 ,  57.13508, 231.92227, 185.20714,\n",
       "       187.37495,  83.55921, 185.42586, 217.34036, 108.86715,  80.98715,\n",
       "       127.05524, 242.00739, 155.97234, 125.67575, 246.41236, 234.96393,\n",
       "       191.51298, 168.33254, 163.02965])"
      ]
     },
     "execution_count": 191,
     "metadata": {},
     "output_type": "execute_result"
    }
   ],
   "source": [
    "new_y_pred = np.around(y_pred,decimals=5)\n",
    "new_y_pred"
   ]
  },
  {
   "cell_type": "code",
   "execution_count": 197,
   "id": "e5cb99e6",
   "metadata": {},
   "outputs": [],
   "source": [
    "# np array convert in to csv file:-\n",
    "np.savetxt(\"linear_regression_y_test.csv\", new_y_pred,delimiter=',')"
   ]
  },
  {
   "cell_type": "code",
   "execution_count": 198,
   "id": "2fea34e8",
   "metadata": {},
   "outputs": [
    {
     "name": "stdout",
     "output_type": "stream",
     "text": [
      "0.49572080558056053\n",
      "0.9999999999999969\n"
     ]
    }
   ],
   "source": [
    "# coefficient of determination\n",
    "score_train = alg1.score(X_train,Y_train)\n",
    "score_test = alg1.score(X_test,y_pred)\n",
    "print(score_train)\n",
    "print(score_test)"
   ]
  },
  {
   "cell_type": "code",
   "execution_count": null,
   "id": "73c5fa84",
   "metadata": {},
   "outputs": [],
   "source": []
  }
 ],
 "metadata": {
  "kernelspec": {
   "display_name": "Python 3 (ipykernel)",
   "language": "python",
   "name": "python3"
  },
  "language_info": {
   "codemirror_mode": {
    "name": "ipython",
    "version": 3
   },
   "file_extension": ".py",
   "mimetype": "text/x-python",
   "name": "python",
   "nbconvert_exporter": "python",
   "pygments_lexer": "ipython3",
   "version": "3.9.12"
  }
 },
 "nbformat": 4,
 "nbformat_minor": 5
}
